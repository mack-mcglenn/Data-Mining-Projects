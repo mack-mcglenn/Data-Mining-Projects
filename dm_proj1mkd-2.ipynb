{
 "cells": [
  {
   "cell_type": "markdown",
   "id": "2db2ff9c-da45-4c3d-834a-2ddde09565f6",
   "metadata": {},
   "source": [
    "#### Data Mining: Project 1\n",
    "\n",
    "This project will analyze a dataset found on [kaggle](https://www.kaggle.com/datasets/aryan208/student-habits-and-academic-performance-dataset?resource=download) which tracks the study habits and performance of students in college. Making the adjustment from highschool to college can prove difficult for many students, and there are many factors that affect a student's academic performance and success. Using simulated data for 80,000 students, my goal is to analyze whether there are commonalities amongst students with similar background and observe the habits and influences of successful vs average vs failing students. \n",
    "\n",
    "I aim to answer the following questions in this analysis:\n",
    "\n",
    "- What is the relationship between hours studied and the student's major? Is there a trend that students in certain majors must study more to be successful- and if so, what is the threshold?\n",
    "\n",
    "- Is there a certain age where students display a change in their study habits? What about their lifestyle factors like exercise, self care, and diet quality?\n",
    "\n",
    "- What factor, if any, does parental support play in student success? Are students with educated parents more likely to succeed academically, or is that a non-factor?\n",
    "\n",
    "- What is the average non-academic screentime for highly successful students vs average or low performing students? Does that average range by major?"
   ]
  },
  {
   "cell_type": "markdown",
   "id": "09506927-56b3-4a5f-b6ee-65b5faeaed26",
   "metadata": {},
   "source": [
    "#### Introduction to the Dataset\n",
    "\n",
    "This dataset has several feature which measure student performance:\n",
    "\n",
    "   #### Demographic Information \n",
    "   - student_id: Unique student identifier assigned to each student (int)\n",
    "   - age: The ages of the students in this dataset ranges from 16-28. (int)\n",
    "   - gender: Male, Female, or Other. (str)\n",
    "   - parental_support_level: Reflects the level of parental support on a 1-10 scale with 1 representing low support and 10 representing high(int)\n",
    "   - major: A range of areas of study (str)\n",
    "   - study_hours_per_day: Average hours studied daily (int)\n",
    "   - social_media_hours/netflix_hours/screen_time: Non-academic time spent engaging in social media or streaming services (float)\n",
    "   - part_time_job: Reflects whether the student has a part time job (str).\n",
    "   - attendance_percentage: Academic attendance in percentage (float)\n",
    "   - sleep_hours (float), exercise_frequency(str), diet_quality(str): Lifestyle factors that affect academic performance. \n",
    "   - mental_health_rating, stress_level, exam_anxiety_score: Psychological indicators rated on a 1-10 scale (int)\n",
    "   - extracurricular_participation, access_to_tutoring: Opportunities for student support and engagement (Yes/No) (str)\n",
    "   \n",
    "   - motivation_level, time_management_score: Self-management skills measured on a 1-10 scale (int)\n",
    "   - learning_style: Preferred method of learning.\n",
    "   - exam_anxiety_score: What level of anxiety does a student feel about their upcoming exams on a 1-10 scale (int)\n",
    "   - study_environment: Common location for studying (str)\n",
    "   - dropout_risk: Yes/No — This metric determines whether the student is likely to drop out based on their stress and motivational metrics\n",
    "   - exam_score: Student's score on the final exam (float)\n",
    "   - learning_style: Whether the student has a dominant visual, kinesthetic, auditory, or reading learning style (str)\n",
    "    "
   ]
  },
  {
   "cell_type": "markdown",
   "id": "5c0c682c-5b19-4bc2-8289-014579c7ed4a",
   "metadata": {},
   "source": [
    "### Data Pre-proccessing\n",
    "My data cleaning process began with verifying that there were no null values in this dataset. To confirm, I used isna.sum(), which returned a sum of 0, indicating that my dataset contains no null values. My dataset contains several columns with Yes/No responses, so I converted all of those values to booleans using mapping. After confirming that the booleans were present, I updated my dataframe. Next, I wanted to enumerate some of my categorical values, specifically theordinal (high,medium,low) values. I used mapping again and updated the dataframe. I only used a singular dataset for this project, so I didn't need to do any data integration. With that, I was ready to move onto visualization."
   ]
  },
  {
   "cell_type": "markdown",
   "id": "c4ac9eda-18cf-4b25-aa00-3b0b5eb0b8ef",
   "metadata": {},
   "source": [
    "### Data Visualization\n",
    "\n",
    "The first relationship I wanted to observe was how long different majors committed to their study time. I hypothesized that computer science and engineering majors would probably have the highest median and average study time. Initially, I wanted to use a scatterplot to see how study time contributed to exam scores for different majors. After creating the plot, I fould that the data was too overwhelming visually for anything to be understood about it, so I changed my strategy. Instead, I used a violin plot to compare each majors study times to one another. I used this plot specifically because of it's usefulness in understanding distribution. From the chart I created, I affirmed part of my hypothesis: computer science students spend the highest average amount of hours studying."
   ]
  },
  {
   "cell_type": "markdown",
   "id": "2f28a427-106b-4a8f-8185-f1c15d77df66",
   "metadata": {},
   "source": [
    "### Impact\n",
    "\n",
    "The information for this dataset could be impactful in determining the factors that contribute to student success or failure in academia. Determining those factors may enable universities to target assistance towards potential students who may need it or determine throughout a student's academic career how likely they are to be successful in their program. The limits that I've noticed so far are that the study hours metric doesn't specify whether those are hours per day or hours per week spent studying. Additionally, there isn't information regaurding the dollar value for what determines family income."
   ]
  },
  {
   "cell_type": "markdown",
   "id": "5e251e25-507a-4ce4-876b-2cf0fa0e8222",
   "metadata": {},
   "source": [
    "### References\n",
    "[kaggle](https://www.kaggle.com/datasets/aryan208/student-habits-and-academic-performance-dataset?resource=download)\n"
   ]
  }
 ],
 "metadata": {
  "kernelspec": {
   "display_name": "Python 3 (ipykernel)",
   "language": "python",
   "name": "python3"
  },
  "language_info": {
   "codemirror_mode": {
    "name": "ipython",
    "version": 3
   },
   "file_extension": ".py",
   "mimetype": "text/x-python",
   "name": "python",
   "nbconvert_exporter": "python",
   "pygments_lexer": "ipython3",
   "version": "3.9.13"
  }
 },
 "nbformat": 4,
 "nbformat_minor": 5
}
